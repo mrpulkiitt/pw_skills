{
 "cells": [
  {
   "cell_type": "markdown",
   "id": "4b9e195c-d6f5-4a56-a563-db79813c9e27",
   "metadata": {},
   "source": [
    "Q1. Create one variable containing following type of data:\n",
    "(i) string\n",
    "(ii) list\n",
    "(iii) float\n",
    "(iv) tuple"
   ]
  },
  {
   "cell_type": "code",
   "execution_count": 2,
   "id": "530e5336-ec60-40f8-b244-2694b76403dd",
   "metadata": {},
   "outputs": [],
   "source": [
    "name = 'hello'"
   ]
  },
  {
   "cell_type": "code",
   "execution_count": 3,
   "id": "8ef6ca34-01c2-4ece-8c6c-9fc892b6ed14",
   "metadata": {},
   "outputs": [],
   "source": [
    "l= [1,2,3,\"Pulkit\",\"Hello World!\"]"
   ]
  },
  {
   "cell_type": "code",
   "execution_count": 5,
   "id": "f128f346-d8c6-402f-96e8-f3d61ec87aac",
   "metadata": {},
   "outputs": [],
   "source": [
    "a= float(10)"
   ]
  },
  {
   "cell_type": "code",
   "execution_count": 6,
   "id": "2689afcd-d151-4fd3-8868-bd3349209255",
   "metadata": {},
   "outputs": [],
   "source": [
    "t=(1,2,3,4,5,6, \"Pulkit\", \"Mohan\")"
   ]
  },
  {
   "cell_type": "code",
   "execution_count": 7,
   "id": "ccca2d82-27f6-45f2-9e3d-ba7ec747e297",
   "metadata": {},
   "outputs": [
    {
     "data": {
      "text/plain": [
       "str"
      ]
     },
     "execution_count": 7,
     "metadata": {},
     "output_type": "execute_result"
    }
   ],
   "source": [
    "type(name)"
   ]
  },
  {
   "cell_type": "code",
   "execution_count": 8,
   "id": "0213158c-721a-4e45-8300-f6b80e1b62f0",
   "metadata": {},
   "outputs": [
    {
     "data": {
      "text/plain": [
       "list"
      ]
     },
     "execution_count": 8,
     "metadata": {},
     "output_type": "execute_result"
    }
   ],
   "source": [
    "type(l)"
   ]
  },
  {
   "cell_type": "code",
   "execution_count": 9,
   "id": "5f4e1f17-f6a7-4311-b885-1e487303bc14",
   "metadata": {},
   "outputs": [
    {
     "data": {
      "text/plain": [
       "float"
      ]
     },
     "execution_count": 9,
     "metadata": {},
     "output_type": "execute_result"
    }
   ],
   "source": [
    "type(a)"
   ]
  },
  {
   "cell_type": "code",
   "execution_count": 11,
   "id": "18c1f92f-627a-4f6e-a831-e4a58aeff62b",
   "metadata": {},
   "outputs": [
    {
     "data": {
      "text/plain": [
       "tuple"
      ]
     },
     "execution_count": 11,
     "metadata": {},
     "output_type": "execute_result"
    }
   ],
   "source": [
    "type(t)"
   ]
  },
  {
   "cell_type": "markdown",
   "id": "439ffed1-59d3-4251-bed6-6000e82d4f26",
   "metadata": {},
   "source": [
    "Q2. Given are some following variables containing data:\n",
    "(i) var1 = ‘ ‘\n",
    "(ii) var2 = ‘[ DS , ML , Python]’\n",
    "(iii) var3 = [ ‘DS’ , ’ML’ , ‘Python’ ]\n",
    "(iv) var4 = 1.\n",
    "What will be the data type of the above given variable."
   ]
  },
  {
   "cell_type": "code",
   "execution_count": 17,
   "id": "ffc68058-13e0-454d-9e92-9423279f6925",
   "metadata": {},
   "outputs": [
    {
     "data": {
      "text/plain": [
       "int"
      ]
     },
     "execution_count": 17,
     "metadata": {},
     "output_type": "execute_result"
    }
   ],
   "source": [
    "var4 = 1\n",
    "type(var4)"
   ]
  },
  {
   "cell_type": "code",
   "execution_count": 19,
   "id": "3f4411af-b81a-4afa-a996-5af8afce7110",
   "metadata": {},
   "outputs": [
    {
     "data": {
      "text/plain": [
       "str"
      ]
     },
     "execution_count": 19,
     "metadata": {},
     "output_type": "execute_result"
    }
   ],
   "source": [
    "var1= \"\"\n",
    "type(var1)"
   ]
  },
  {
   "cell_type": "code",
   "execution_count": 20,
   "id": "08ff85ab-3079-4a30-a21d-51ef0042def0",
   "metadata": {},
   "outputs": [
    {
     "ename": "NameError",
     "evalue": "name 'DS' is not defined",
     "output_type": "error",
     "traceback": [
      "\u001b[0;31m---------------------------------------------------------------------------\u001b[0m",
      "\u001b[0;31mNameError\u001b[0m                                 Traceback (most recent call last)",
      "Cell \u001b[0;32mIn[20], line 1\u001b[0m\n\u001b[0;32m----> 1\u001b[0m var2\u001b[38;5;241m=\u001b[39m[\u001b[43mDS\u001b[49m,ML,Python]\n\u001b[1;32m      2\u001b[0m \u001b[38;5;28mtype\u001b[39m(var2)\n",
      "\u001b[0;31mNameError\u001b[0m: name 'DS' is not defined"
     ]
    }
   ],
   "source": [
    "var2=[DS,ML,Python]\n",
    "type(var2)"
   ]
  },
  {
   "cell_type": "code",
   "execution_count": 22,
   "id": "ed6b973f-0dd7-4c32-93d9-d1713786997c",
   "metadata": {},
   "outputs": [
    {
     "data": {
      "text/plain": [
       "list"
      ]
     },
     "execution_count": 22,
     "metadata": {},
     "output_type": "execute_result"
    }
   ],
   "source": [
    "var3=['DS','ML','Python']\n",
    "type(var3)"
   ]
  },
  {
   "cell_type": "markdown",
   "id": "f3bcf1e4-4f70-48c0-bd62-9c29b4320dc4",
   "metadata": {},
   "source": [
    "Q3. Explain the use of the following operators using an example:\n",
    "(i) /\n",
    "(ii) %\n",
    "(iii) //\n",
    "(iv) **"
   ]
  },
  {
   "cell_type": "markdown",
   "id": "fa031b7d-5a18-41cf-923e-f1bbc2becb62",
   "metadata": {},
   "source": [
    "(i) / : This is divison operator. It is used to find the result of division of 2 numbers."
   ]
  },
  {
   "cell_type": "code",
   "execution_count": 23,
   "id": "6bd96100-883e-4c7b-b02e-3277d96f9ca4",
   "metadata": {},
   "outputs": [
    {
     "name": "stdout",
     "output_type": "stream",
     "text": [
      "2.0\n"
     ]
    }
   ],
   "source": [
    "a= 10\n",
    "b=5\n",
    "div=a/b\n",
    "print(div)"
   ]
  },
  {
   "cell_type": "markdown",
   "id": "a604ed2b-552b-42a1-8a28-dc58b426e7a5",
   "metadata": {},
   "source": [
    "(ii) % : This is remainder operator. It is used to find the result of remainder of a division problem."
   ]
  },
  {
   "cell_type": "code",
   "execution_count": 24,
   "id": "36d41b54-5a7e-47ae-95fe-88fa8c95e80d",
   "metadata": {},
   "outputs": [
    {
     "name": "stdout",
     "output_type": "stream",
     "text": [
      "0\n"
     ]
    }
   ],
   "source": [
    "mod=a%b\n",
    "print(mod)"
   ]
  },
  {
   "cell_type": "markdown",
   "id": "d57a3497-cc7d-43a3-82fe-aa80f08f14e2",
   "metadata": {},
   "source": [
    "(iii) // : This is floor divison operator. It is used to to divide two numbers and get the result in which the quotient is rounded down to the nearest integer values."
   ]
  },
  {
   "cell_type": "code",
   "execution_count": 25,
   "id": "874a922e-2562-40a7-bf12-eb8289cea5ac",
   "metadata": {},
   "outputs": [
    {
     "name": "stdout",
     "output_type": "stream",
     "text": [
      "2\n"
     ]
    }
   ],
   "source": [
    "a=11\n",
    "b=4\n",
    "c=a//b\n",
    "print(c)"
   ]
  },
  {
   "cell_type": "markdown",
   "id": "da413038-8d1e-4565-99ab-84fbc45458f1",
   "metadata": {},
   "source": [
    "(iv) ** : This is exponentiation operator. It is used to find the power of the given number."
   ]
  },
  {
   "cell_type": "code",
   "execution_count": 26,
   "id": "fefb5627-394c-4b2b-a4e2-15274c5eaa20",
   "metadata": {},
   "outputs": [
    {
     "name": "stdout",
     "output_type": "stream",
     "text": [
      "64\n"
     ]
    }
   ],
   "source": [
    "a=4\n",
    "print(a**3)"
   ]
  },
  {
   "cell_type": "markdown",
   "id": "b912c817-6c8f-40d7-8097-65baf6df2cae",
   "metadata": {},
   "source": [
    "Q4. Create a list of length 10 of your choice containing multiple types of data. Using for loop print the\n",
    "element and its data type."
   ]
  },
  {
   "cell_type": "code",
   "execution_count": 35,
   "id": "d64a857d-7da3-4595-b035-6c8f9e882301",
   "metadata": {},
   "outputs": [
    {
     "name": "stdout",
     "output_type": "stream",
     "text": [
      "1 <class 'int'>\n",
      "2 <class 'int'>\n",
      "3 <class 'int'>\n",
      "Pulkit <class 'str'>\n",
      "2.5 <class 'float'>\n",
      "(1, 2, 3) <class 'tuple'>\n",
      "{'Pulkit'} <class 'set'>\n",
      "(1, 2, 3, 'Mohan') <class 'tuple'>\n",
      "9 <class 'int'>\n",
      "10 <class 'int'>\n"
     ]
    }
   ],
   "source": [
    "l1=[1,2,3,\"Pulkit\",2.5,(1,2,3),{\"Pulkit\"},(1,2,3,\"Mohan\"),9,10]\n",
    "for i in l1:\n",
    "    print(i       , type(i))"
   ]
  },
  {
   "cell_type": "markdown",
   "id": "1301c97c-78a9-4892-809a-f93959171843",
   "metadata": {},
   "source": [
    "Q5. Using a while loop, verify if the number A is purely divisible by number B and if so then how many\n",
    "times it can be divisible."
   ]
  },
  {
   "cell_type": "code",
   "execution_count": 2,
   "id": "30b590c8-0571-4aee-9cd2-69cca69f65cb",
   "metadata": {},
   "outputs": [
    {
     "name": "stdin",
     "output_type": "stream",
     "text": [
      "Enter the number you want to check:  100\n",
      "Enter the number you want to check by:  5\n"
     ]
    },
    {
     "name": "stdout",
     "output_type": "stream",
     "text": [
      "Yes! given number is completly divisible by  5\n",
      "It is divisible  2 times\n"
     ]
    }
   ],
   "source": [
    "a=int(input(\"Enter the number you want to check: \"))\n",
    "b=int(input(\"Enter the number you want to check by: \"))\n",
    "c=0\n",
    "while a%b==0:\n",
    "    a=a/b\n",
    "    c+=1\n",
    "print(\"Yes! given number is completly divisible by \",b  )\n",
    "print(\"It is divisible \", c , \"times\")"
   ]
  },
  {
   "cell_type": "markdown",
   "id": "c65522d9-9113-4976-a803-16eb0c43628f",
   "metadata": {},
   "source": [
    "Q6. Create a list containing 25 int type data. Using for loop and if-else condition print if the element is\n",
    "divisible by 3 or not."
   ]
  },
  {
   "cell_type": "code",
   "execution_count": 13,
   "id": "76600c8d-62c3-4e63-9e0d-7654fa60b27f",
   "metadata": {},
   "outputs": [
    {
     "name": "stdout",
     "output_type": "stream",
     "text": [
      "[1, 2, 3, 4, 5, 6, 7, 8, 9, 10, 11, 12, 13, 14, 15, 16, 17, 18, 19, 20, 21, 22, 23, 24, 25]\n"
     ]
    }
   ],
   "source": [
    "l= []\n",
    "for i in range(1,26):\n",
    "    l.append(i)\n",
    "print(l)"
   ]
  },
  {
   "cell_type": "code",
   "execution_count": 15,
   "id": "df2ff602-2144-4e33-8d7e-50224ca26e08",
   "metadata": {},
   "outputs": [
    {
     "name": "stdout",
     "output_type": "stream",
     "text": [
      "1  is not divisible by 3\n",
      "2  is not divisible by 3\n",
      "3  is divisible by 3\n",
      "4  is not divisible by 3\n",
      "5  is not divisible by 3\n",
      "6  is divisible by 3\n",
      "7  is not divisible by 3\n",
      "8  is not divisible by 3\n",
      "9  is divisible by 3\n",
      "10  is not divisible by 3\n",
      "11  is not divisible by 3\n",
      "12  is divisible by 3\n",
      "13  is not divisible by 3\n",
      "14  is not divisible by 3\n",
      "15  is divisible by 3\n",
      "16  is not divisible by 3\n",
      "17  is not divisible by 3\n",
      "18  is divisible by 3\n",
      "19  is not divisible by 3\n",
      "20  is not divisible by 3\n",
      "21  is divisible by 3\n",
      "22  is not divisible by 3\n",
      "23  is not divisible by 3\n",
      "24  is divisible by 3\n",
      "25  is not divisible by 3\n"
     ]
    }
   ],
   "source": [
    "for i in l:\n",
    "    if i%3==0:\n",
    "        print(i,\" is divisible by 3\")\n",
    "    else:\n",
    "        print(i,\" is not divisible by 3\")"
   ]
  },
  {
   "cell_type": "markdown",
   "id": "5f247b66-cf55-4f9b-80ad-628c05b85556",
   "metadata": {},
   "source": [
    "Q7. What do you understand about mutable and immutable data types? Give examples for both showing\n",
    "this property.\n",
    "Ans. Mutable: These are the type of data which can be changed after its created.\n",
    "     Immutable: These are the type of data which cannot be changed after its created.\n",
    "     For example:-"
   ]
  },
  {
   "cell_type": "code",
   "execution_count": 17,
   "id": "9fac4dd6-d41c-4f79-a494-8e5cff3ee23f",
   "metadata": {},
   "outputs": [
    {
     "name": "stdout",
     "output_type": "stream",
     "text": [
      "['ankit', 'mohan', 'sharma', 'mohan']\n"
     ]
    }
   ],
   "source": [
    "l2=[\"ankit\",\"pulkit\",\"sharma\",\"mohan\"]\n",
    "l2[1]= \"mohan\"\n",
    "print(l2)"
   ]
  },
  {
   "cell_type": "markdown",
   "id": "8b359fff-c8bd-48c6-87db-147a6fc1c7da",
   "metadata": {},
   "source": [
    "The above example is a mutable data type."
   ]
  },
  {
   "cell_type": "code",
   "execution_count": 20,
   "id": "a1eb610b-e44b-440a-a76c-dc9589f341f5",
   "metadata": {},
   "outputs": [
    {
     "ename": "AttributeError",
     "evalue": "'tuple' object has no attribute 'append'",
     "output_type": "error",
     "traceback": [
      "\u001b[0;31m---------------------------------------------------------------------------\u001b[0m",
      "\u001b[0;31mAttributeError\u001b[0m                            Traceback (most recent call last)",
      "Cell \u001b[0;32mIn[20], line 2\u001b[0m\n\u001b[1;32m      1\u001b[0m l3\u001b[38;5;241m=\u001b[39m(\u001b[38;5;124m\"\u001b[39m\u001b[38;5;124mankit\u001b[39m\u001b[38;5;124m\"\u001b[39m,\u001b[38;5;124m\"\u001b[39m\u001b[38;5;124mpulkit\u001b[39m\u001b[38;5;124m\"\u001b[39m,\u001b[38;5;124m\"\u001b[39m\u001b[38;5;124msharma\u001b[39m\u001b[38;5;124m\"\u001b[39m,\u001b[38;5;124m\"\u001b[39m\u001b[38;5;124mmohan\u001b[39m\u001b[38;5;124m\"\u001b[39m)\n\u001b[0;32m----> 2\u001b[0m \u001b[43ml3\u001b[49m\u001b[38;5;241;43m.\u001b[39;49m\u001b[43mappend\u001b[49m(\u001b[38;5;124m\"\u001b[39m\u001b[38;5;124mmohannn\u001b[39m\u001b[38;5;124m\"\u001b[39m)\n\u001b[1;32m      3\u001b[0m \u001b[38;5;28mprint\u001b[39m(l2)\n",
      "\u001b[0;31mAttributeError\u001b[0m: 'tuple' object has no attribute 'append'"
     ]
    }
   ],
   "source": [
    "l3=(\"ankit\",\"pulkit\",\"sharma\",\"mohan\")\n",
    "l3.append(\"mohannn\")\n",
    "print(l2)"
   ]
  },
  {
   "cell_type": "code",
   "execution_count": null,
   "id": "518ad9a5-2b01-4847-bd7d-991c07f8b01c",
   "metadata": {},
   "outputs": [],
   "source": [
    "Tuples are immutable."
   ]
  }
 ],
 "metadata": {
  "kernelspec": {
   "display_name": "Python 3 (ipykernel)",
   "language": "python",
   "name": "python3"
  },
  "language_info": {
   "codemirror_mode": {
    "name": "ipython",
    "version": 3
   },
   "file_extension": ".py",
   "mimetype": "text/x-python",
   "name": "python",
   "nbconvert_exporter": "python",
   "pygments_lexer": "ipython3",
   "version": "3.10.8"
  }
 },
 "nbformat": 4,
 "nbformat_minor": 5
}
