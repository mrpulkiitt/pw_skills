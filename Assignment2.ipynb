{
 "cells": [
  {
   "cell_type": "markdown",
   "id": "99cc710b-c613-4e96-8d3c-f82cf78b208f",
   "metadata": {},
   "source": [
    "Q1. How do you comment code in Python? What are the different types of comments?\n",
    "Ans. There are two main types of comments in Python:\n",
    "     single-line comments and multi-line comments.\n",
    "     Single-line comments:\n",
    "     Single-line comments start with the hash symbol (#).\n",
    "     Multi-line comments:\n",
    "     multi-line comments are enclosed between triple quotes (\"\"\" or ''')"
   ]
  },
  {
   "cell_type": "code",
   "execution_count": 4,
   "id": "65f9baac-8238-49fa-9ef9-226193d7cd17",
   "metadata": {},
   "outputs": [],
   "source": [
    "#this is a single line comment"
   ]
  },
  {
   "cell_type": "code",
   "execution_count": 7,
   "id": "0aa2b3bd-9169-4643-b8d0-17d3e9205ce4",
   "metadata": {},
   "outputs": [
    {
     "name": "stdout",
     "output_type": "stream",
     "text": [
      "Hello world!\n"
     ]
    }
   ],
   "source": [
    "\"\"\"\n",
    "this \n",
    "is\n",
    "multi-line\n",
    "comment.\n",
    "\"\"\"\n",
    "print(\"Hello world!\")"
   ]
  },
  {
   "cell_type": "markdown",
   "id": "0361dd4a-20e7-47c0-9ccb-55bbbcd111a5",
   "metadata": {},
   "source": [
    "Q2. What are variables in Python? How do you declare and assign values to variables?\n",
    "Ans. Variables are used to store data values. They act as containers that hold data of different types, such as numbers, strings, or              objects. Variables allow you to assign a name to a value, making it easier to manipulate and reference that value throughout your code."
   ]
  },
  {
   "cell_type": "code",
   "execution_count": 8,
   "id": "2c6aaa04-b3ee-4db1-86e2-180769b0f3b2",
   "metadata": {},
   "outputs": [
    {
     "name": "stdout",
     "output_type": "stream",
     "text": [
      "10\n",
      "John Doe\n",
      "True\n"
     ]
    }
   ],
   "source": [
    "# Variable declaration and assignment\n",
    "x = 10\n",
    "name = \"John Doe\"\n",
    "cond = True\n",
    "\n",
    "# Printing the variables\n",
    "print(x)\n",
    "print(name)\n",
    "print(cond)\n"
   ]
  },
  {
   "cell_type": "markdown",
   "id": "792962ba-ae97-4bcd-975f-c595b4a5d246",
   "metadata": {},
   "source": [
    "Q3. How do you convert one data type to another in Python?\n",
    "Ans. We convert one data type to another in Python using type conversion"
   ]
  },
  {
   "cell_type": "code",
   "execution_count": 13,
   "id": "f2c84f43-fa2a-4e7f-9c13-6214ff81bf14",
   "metadata": {},
   "outputs": [
    {
     "data": {
      "text/plain": [
       "int"
      ]
     },
     "execution_count": 13,
     "metadata": {},
     "output_type": "execute_result"
    }
   ],
   "source": [
    "a=45\n",
    "type(a)"
   ]
  },
  {
   "cell_type": "code",
   "execution_count": 14,
   "id": "edf8eaae-19dc-498a-9b13-e3eef9647a22",
   "metadata": {},
   "outputs": [
    {
     "name": "stdout",
     "output_type": "stream",
     "text": [
      "115.0\n"
     ]
    }
   ],
   "source": [
    "b= float(115)\n",
    "print(b)"
   ]
  },
  {
   "cell_type": "code",
   "execution_count": 15,
   "id": "e1d86829-be7d-47ed-92f7-2ec9f7a0acca",
   "metadata": {},
   "outputs": [
    {
     "data": {
      "text/plain": [
       "float"
      ]
     },
     "execution_count": 15,
     "metadata": {},
     "output_type": "execute_result"
    }
   ],
   "source": [
    "type(b)"
   ]
  },
  {
   "cell_type": "markdown",
   "id": "80badffd-458a-4889-91a5-7037c4ea2c7f",
   "metadata": {},
   "source": [
    "Q4. How do you write and execute a Python script from the command line?\n",
    "Ans. To write and execute a Python script from the command line\n",
    "\n",
    "1. Open a text editor and create a new file.\n",
    "\n",
    "2. Write your Python code in the text file.\n",
    "  \n",
    "3. Save the file with a `.py` extension.\n",
    "\n",
    "4. Open the command prompt or terminal on your operating system.\n",
    "\n",
    "5. Navigate to the directory where you saved your Python script.\n",
    "\n",
    "6. Once we're in the correct directory, we can execute the Python script by running the `python` command followed by the name of your script file. \n",
    "         python name_of_file.py\n",
    "\n",
    "7. Press Enter, and the Python script will be executed.\n",
    "\n",
    "That's it! You have successfully written and executed a Python script from the command line. You can modify your Python script, save it, and rerun the command to see the updated output."
   ]
  },
  {
   "cell_type": "markdown",
   "id": "dcee5525-9a70-4886-8689-c53ec6baad29",
   "metadata": {},
   "source": [
    "Q5. Given a list my_list = [1, 2, 3, 4, 5], write the code to slice the list and obtain the sub-list [2, 3]."
   ]
  },
  {
   "cell_type": "code",
   "execution_count": 18,
   "id": "651c86ed-9d5e-45d2-bfb1-a50b6f1ea447",
   "metadata": {},
   "outputs": [
    {
     "name": "stdout",
     "output_type": "stream",
     "text": [
      "[2, 3]\n"
     ]
    }
   ],
   "source": [
    "my_list = [1, 2, 3, 4, 5]\n",
    "sub_list=my_list[1:3]\n",
    "print(sub_list)"
   ]
  },
  {
   "cell_type": "markdown",
   "id": "ea59c6e6-0359-4502-8d02-9ce46c841bfe",
   "metadata": {},
   "source": [
    "Q6. What is a complex number in mathematics, and how is it represented in Python?\n",
    "Ans. A complex number is a number that comprises both a real part and an imaginary part. It is expressed in the form \"a + bi\""
   ]
  },
  {
   "cell_type": "code",
   "execution_count": 19,
   "id": "6426f007-088e-4512-a2ab-7dcc18a18e5a",
   "metadata": {},
   "outputs": [
    {
     "name": "stdout",
     "output_type": "stream",
     "text": [
      "(2+3j)\n",
      "(2.5+3.6j)\n"
     ]
    }
   ],
   "source": [
    "z1= 2+3j\n",
    "z2=2.5+3.6j\n",
    "print(z1)\n",
    "print(z2)"
   ]
  },
  {
   "cell_type": "code",
   "execution_count": 22,
   "id": "41128270-daef-42cb-9b60-5d037e580618",
   "metadata": {},
   "outputs": [
    {
     "name": "stdout",
     "output_type": "stream",
     "text": [
      "2.0\n",
      "3.0\n"
     ]
    }
   ],
   "source": [
    "print(z1.real)\n",
    "print(z1.imag)"
   ]
  },
  {
   "cell_type": "code",
   "execution_count": 23,
   "id": "4056f613-66c7-46e6-a8fd-19505be31a59",
   "metadata": {},
   "outputs": [
    {
     "name": "stdout",
     "output_type": "stream",
     "text": [
      "2.5\n",
      "3.6\n"
     ]
    }
   ],
   "source": [
    "print(z2.real)\n",
    "print(z2.imag)"
   ]
  },
  {
   "cell_type": "markdown",
   "id": "1b021f20-9e8f-460c-b237-72018a38f872",
   "metadata": {},
   "source": [
    "Q7. What is the correct way to declare a variable named age and assign the value 25 to it?"
   ]
  },
  {
   "cell_type": "code",
   "execution_count": 24,
   "id": "dc11bf1b-dffa-44fd-86cd-e9098844516c",
   "metadata": {},
   "outputs": [],
   "source": [
    "age=25"
   ]
  },
  {
   "cell_type": "markdown",
   "id": "87d19f57-e4ae-4b6d-adfc-4e9117a0065c",
   "metadata": {},
   "source": [
    "Q8. Declare a variable named price and assign the value 9.99 to it. What data type does this variable\n",
    "belong to?"
   ]
  },
  {
   "cell_type": "code",
   "execution_count": 25,
   "id": "70eb15be-7624-4cb9-b4a5-ff5bb57f5204",
   "metadata": {},
   "outputs": [
    {
     "data": {
      "text/plain": [
       "float"
      ]
     },
     "execution_count": 25,
     "metadata": {},
     "output_type": "execute_result"
    }
   ],
   "source": [
    "price = 9.99\n",
    "type(price)"
   ]
  },
  {
   "cell_type": "markdown",
   "id": "0e7f683b-18c6-45e6-b2ce-fce3ddbdacc4",
   "metadata": {},
   "source": [
    "Q9. Create a variable named name and assign your full name to it as a string. How would you print the\n",
    "value of this variable?"
   ]
  },
  {
   "cell_type": "code",
   "execution_count": 26,
   "id": "e021134e-ff73-4f8b-baee-2052cfddc185",
   "metadata": {},
   "outputs": [
    {
     "name": "stdout",
     "output_type": "stream",
     "text": [
      "Pulkit Mohan\n"
     ]
    }
   ],
   "source": [
    "name = \"Pulkit Mohan\"\n",
    "print(name)"
   ]
  },
  {
   "cell_type": "markdown",
   "id": "20d3f81e-a3cd-4e7a-b1a7-7080383d6c50",
   "metadata": {},
   "source": [
    "Q10. Given the string \"Hello, World!\", extract the substring \"World\"."
   ]
  },
  {
   "cell_type": "code",
   "execution_count": null,
   "id": "6f98102b-018b-4881-9105-190e665ce7c8",
   "metadata": {},
   "outputs": [],
   "source": [
    "my_str= \"Hello, World!\"\n",
    "sub_str= my_str[7:12]\n",
    "print(sub_str)"
   ]
  }
 ],
 "metadata": {
  "kernelspec": {
   "display_name": "Python 3 (ipykernel)",
   "language": "python",
   "name": "python3"
  },
  "language_info": {
   "codemirror_mode": {
    "name": "ipython",
    "version": 3
   },
   "file_extension": ".py",
   "mimetype": "text/x-python",
   "name": "python",
   "nbconvert_exporter": "python",
   "pygments_lexer": "ipython3",
   "version": "3.10.8"
  }
 },
 "nbformat": 4,
 "nbformat_minor": 5
}
